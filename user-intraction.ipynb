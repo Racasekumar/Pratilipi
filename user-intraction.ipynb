{
 "cells": [
  {
   "cell_type": "markdown",
   "id": "34b38a5f",
   "metadata": {},
   "source": [
    "# Importing Dependecies"
   ]
  },
  {
   "cell_type": "code",
   "execution_count": 1,
   "id": "fa41c307",
   "metadata": {},
   "outputs": [],
   "source": [
    "import pandas as pd\n",
    "import numpy as np\n",
    "import seaborn as sns\n",
    "import matplotlib.pyplot as plt\n",
    "%matplotlib inline\n",
    "\n",
    "from datetime import datetime\n",
    "import warnings\n",
    "warnings.filterwarnings(\"ignore\")"
   ]
  },
  {
   "cell_type": "code",
   "execution_count": 2,
   "id": "10bf19cc",
   "metadata": {},
   "outputs": [],
   "source": [
    "df=pd.read_csv(\"user-interactions.csv\",index_col=[0],parse_dates=[\"updated_at\"],squeeze=True)"
   ]
  },
  {
   "cell_type": "code",
   "execution_count": 3,
   "id": "56c5bca2",
   "metadata": {},
   "outputs": [
    {
     "data": {
      "text/html": [
       "<div>\n",
       "<style scoped>\n",
       "    .dataframe tbody tr th:only-of-type {\n",
       "        vertical-align: middle;\n",
       "    }\n",
       "\n",
       "    .dataframe tbody tr th {\n",
       "        vertical-align: top;\n",
       "    }\n",
       "\n",
       "    .dataframe thead th {\n",
       "        text-align: right;\n",
       "    }\n",
       "</style>\n",
       "<table border=\"1\" class=\"dataframe\">\n",
       "  <thead>\n",
       "    <tr style=\"text-align: right;\">\n",
       "      <th></th>\n",
       "      <th>user_id</th>\n",
       "      <th>pratilipi_id</th>\n",
       "      <th>read_percent</th>\n",
       "      <th>updated_at</th>\n",
       "    </tr>\n",
       "  </thead>\n",
       "  <tbody>\n",
       "    <tr>\n",
       "      <th>0</th>\n",
       "      <td>5506791963854965</td>\n",
       "      <td>1377786220672965</td>\n",
       "      <td>100.0</td>\n",
       "      <td>2022-03-23 00:08:26.227</td>\n",
       "    </tr>\n",
       "    <tr>\n",
       "      <th>1</th>\n",
       "      <td>5506791979071996</td>\n",
       "      <td>1377786219742624</td>\n",
       "      <td>29.0</td>\n",
       "      <td>2022-03-23 00:08:26.220</td>\n",
       "    </tr>\n",
       "    <tr>\n",
       "      <th>2</th>\n",
       "      <td>5506791980256358</td>\n",
       "      <td>1377786217096334</td>\n",
       "      <td>22.0</td>\n",
       "      <td>2022-03-23 00:08:26.020</td>\n",
       "    </tr>\n",
       "    <tr>\n",
       "      <th>3</th>\n",
       "      <td>5506791988747277</td>\n",
       "      <td>1377786224767880</td>\n",
       "      <td>100.0</td>\n",
       "      <td>2022-03-23 00:08:25.306</td>\n",
       "    </tr>\n",
       "    <tr>\n",
       "      <th>4</th>\n",
       "      <td>5506791992372558</td>\n",
       "      <td>1377786218111595</td>\n",
       "      <td>100.0</td>\n",
       "      <td>2022-03-23 00:08:25.250</td>\n",
       "    </tr>\n",
       "  </tbody>\n",
       "</table>\n",
       "</div>"
      ],
      "text/plain": [
       "            user_id      pratilipi_id  read_percent              updated_at\n",
       "0  5506791963854965  1377786220672965         100.0 2022-03-23 00:08:26.227\n",
       "1  5506791979071996  1377786219742624          29.0 2022-03-23 00:08:26.220\n",
       "2  5506791980256358  1377786217096334          22.0 2022-03-23 00:08:26.020\n",
       "3  5506791988747277  1377786224767880         100.0 2022-03-23 00:08:25.306\n",
       "4  5506791992372558  1377786218111595         100.0 2022-03-23 00:08:25.250"
      ]
     },
     "execution_count": 3,
     "metadata": {},
     "output_type": "execute_result"
    }
   ],
   "source": [
    "df.head()"
   ]
  },
  {
   "cell_type": "markdown",
   "id": "b9b0ff35",
   "metadata": {},
   "source": [
    "# Data engineering"
   ]
  },
  {
   "cell_type": "code",
   "execution_count": 4,
   "id": "2dd1886f",
   "metadata": {},
   "outputs": [
    {
     "name": "stdout",
     "output_type": "stream",
     "text": [
      "Number of user_id: 355988\n",
      "Number of pratilipi_id: 373138\n",
      "Number of read_percent: 24772\n"
     ]
    }
   ],
   "source": [
    "print(\"Number of user_id:\",df[\"user_id\"].nunique())\n",
    "print(\"Number of pratilipi_id:\",df[\"pratilipi_id\"].nunique())\n",
    "print(\"Number of read_percent:\",df[\"read_percent\"].nunique())"
   ]
  },
  {
   "cell_type": "code",
   "execution_count": 5,
   "id": "7c9c5926",
   "metadata": {},
   "outputs": [
    {
     "name": "stdout",
     "output_type": "stream",
     "text": [
      "<class 'pandas.core.frame.DataFrame'>\n",
      "Int64Index: 10000000 entries, 0 to 9999999\n",
      "Data columns (total 4 columns):\n",
      " #   Column        Dtype         \n",
      "---  ------        -----         \n",
      " 0   user_id       int64         \n",
      " 1   pratilipi_id  int64         \n",
      " 2   read_percent  float64       \n",
      " 3   updated_at    datetime64[ns]\n",
      "dtypes: datetime64[ns](1), float64(1), int64(2)\n",
      "memory usage: 381.5 MB\n"
     ]
    }
   ],
   "source": [
    "df.info()"
   ]
  },
  {
   "cell_type": "code",
   "execution_count": 6,
   "id": "ca51c4bc",
   "metadata": {},
   "outputs": [
    {
     "data": {
      "text/plain": [
       "(10000000, 4)"
      ]
     },
     "execution_count": 6,
     "metadata": {},
     "output_type": "execute_result"
    }
   ],
   "source": [
    "df.shape"
   ]
  },
  {
   "cell_type": "code",
   "execution_count": 7,
   "id": "4d2ee9df",
   "metadata": {},
   "outputs": [
    {
     "data": {
      "text/plain": [
       "user_id         0\n",
       "pratilipi_id    0\n",
       "read_percent    0\n",
       "updated_at      0\n",
       "dtype: int64"
      ]
     },
     "execution_count": 7,
     "metadata": {},
     "output_type": "execute_result"
    }
   ],
   "source": [
    "df.isnull().sum()"
   ]
  },
  {
   "cell_type": "code",
   "execution_count": 8,
   "id": "cb3f3879",
   "metadata": {},
   "outputs": [
    {
     "data": {
      "text/html": [
       "<div>\n",
       "<style scoped>\n",
       "    .dataframe tbody tr th:only-of-type {\n",
       "        vertical-align: middle;\n",
       "    }\n",
       "\n",
       "    .dataframe tbody tr th {\n",
       "        vertical-align: top;\n",
       "    }\n",
       "\n",
       "    .dataframe thead th {\n",
       "        text-align: right;\n",
       "    }\n",
       "</style>\n",
       "<table border=\"1\" class=\"dataframe\">\n",
       "  <thead>\n",
       "    <tr style=\"text-align: right;\">\n",
       "      <th></th>\n",
       "      <th>user_id</th>\n",
       "      <th>pratilipi_id</th>\n",
       "      <th>read_percent</th>\n",
       "    </tr>\n",
       "  </thead>\n",
       "  <tbody>\n",
       "    <tr>\n",
       "      <th>count</th>\n",
       "      <td>1.000000e+07</td>\n",
       "      <td>1.000000e+07</td>\n",
       "      <td>1.000000e+07</td>\n",
       "    </tr>\n",
       "    <tr>\n",
       "      <th>mean</th>\n",
       "      <td>5.489158e+15</td>\n",
       "      <td>1.369415e+15</td>\n",
       "      <td>9.325429e+01</td>\n",
       "    </tr>\n",
       "    <tr>\n",
       "      <th>std</th>\n",
       "      <td>1.605679e+14</td>\n",
       "      <td>1.221880e+14</td>\n",
       "      <td>2.163297e+01</td>\n",
       "    </tr>\n",
       "    <tr>\n",
       "      <th>min</th>\n",
       "      <td>3.255388e+15</td>\n",
       "      <td>-5.375941e+15</td>\n",
       "      <td>0.000000e+00</td>\n",
       "    </tr>\n",
       "    <tr>\n",
       "      <th>25%</th>\n",
       "      <td>5.506792e+15</td>\n",
       "      <td>1.377786e+15</td>\n",
       "      <td>1.000000e+02</td>\n",
       "    </tr>\n",
       "    <tr>\n",
       "      <th>50%</th>\n",
       "      <td>5.506792e+15</td>\n",
       "      <td>1.377786e+15</td>\n",
       "      <td>1.000000e+02</td>\n",
       "    </tr>\n",
       "    <tr>\n",
       "      <th>75%</th>\n",
       "      <td>5.506792e+15</td>\n",
       "      <td>1.377786e+15</td>\n",
       "      <td>1.000000e+02</td>\n",
       "    </tr>\n",
       "    <tr>\n",
       "      <th>max</th>\n",
       "      <td>5.506792e+15</td>\n",
       "      <td>1.377786e+15</td>\n",
       "      <td>2.400000e+03</td>\n",
       "    </tr>\n",
       "  </tbody>\n",
       "</table>\n",
       "</div>"
      ],
      "text/plain": [
       "            user_id  pratilipi_id  read_percent\n",
       "count  1.000000e+07  1.000000e+07  1.000000e+07\n",
       "mean   5.489158e+15  1.369415e+15  9.325429e+01\n",
       "std    1.605679e+14  1.221880e+14  2.163297e+01\n",
       "min    3.255388e+15 -5.375941e+15  0.000000e+00\n",
       "25%    5.506792e+15  1.377786e+15  1.000000e+02\n",
       "50%    5.506792e+15  1.377786e+15  1.000000e+02\n",
       "75%    5.506792e+15  1.377786e+15  1.000000e+02\n",
       "max    5.506792e+15  1.377786e+15  2.400000e+03"
      ]
     },
     "execution_count": 8,
     "metadata": {},
     "output_type": "execute_result"
    }
   ],
   "source": [
    "df.describe()"
   ]
  },
  {
   "cell_type": "code",
   "execution_count": 9,
   "id": "eb891cc5",
   "metadata": {},
   "outputs": [
    {
     "data": {
      "text/plain": [
       "updated_at\n",
       "2022-03-18 15:14:41.771    100.0\n",
       "2022-03-18 15:14:41.777    100.0\n",
       "2022-03-18 15:14:41.827    100.0\n",
       "2022-03-18 15:14:41.924    100.0\n",
       "2022-03-18 15:14:41.973     38.0\n",
       "Name: read_percent, dtype: float64"
      ]
     },
     "execution_count": 9,
     "metadata": {},
     "output_type": "execute_result"
    }
   ],
   "source": [
    "average_user = df.groupby('updated_at').mean()['read_percent']\n",
    "average_user.head()"
   ]
  },
  {
   "cell_type": "code",
   "execution_count": 10,
   "id": "1e48a6f6",
   "metadata": {},
   "outputs": [
    {
     "data": {
      "image/png": "[encoded data removed]",
      "text/plain": [
       "<Figure size 1440x720 with 1 Axes>"
      ]
     },
     "metadata": {
      "needs_background": "light"
     },
     "output_type": "display_data"
    }
   ],
   "source": [
    "average_user.plot(style='.', figsize=(20,10));"
   ]
  },
  {
   "cell_type": "code",
   "execution_count": 11,
   "id": "e562653b",
   "metadata": {},
   "outputs": [
    {
     "data": {
      "image/png": "[encoded data removed]",
      "text/plain": [
       "<Figure size 1440x720 with 1 Axes>"
      ]
     },
     "metadata": {
      "needs_background": "light"
     },
     "output_type": "display_data"
    }
   ],
   "source": [
    "moving_avg = average_user.rolling(window=365, center=True, min_periods=180).mean()\n",
    "average_user.plot(style='.', figsize=(20,10));\n",
    "moving_avg.plot();"
   ]
  },
  {
   "cell_type": "markdown",
   "id": "f1965af5",
   "metadata": {},
   "source": [
    "### Top pratilipies to be read by users later"
   ]
  },
  {
   "cell_type": "code",
   "execution_count": 12,
   "id": "2a9af9c3",
   "metadata": {},
   "outputs": [
    {
     "data": {
      "text/plain": [
       "pratilipi_id\n",
       "1377786216901040    2400.0\n",
       "1377786220451281    1200.0\n",
       "1377786216907065     900.0\n",
       "1377786219588613     700.0\n",
       "1377786216692750     600.0\n",
       "                     ...  \n",
       "1377786228285370       0.0\n",
       "1377786228285451       0.0\n",
       "1377786228285505       0.0\n",
       "1377786228285906       0.0\n",
       "1377786228369138       0.0\n",
       "Name: read_percent, Length: 373138, dtype: float64"
      ]
     },
     "execution_count": 12,
     "metadata": {},
     "output_type": "execute_result"
    }
   ],
   "source": [
    "freq_user=df.groupby(\"pratilipi_id\")[\"read_percent\"].max()\n",
    "freq_user.sort_values(ascending=False)"
   ]
  },
  {
   "cell_type": "markdown",
   "id": "03f0b1ca",
   "metadata": {},
   "source": [
    "######  Top pratilipi_ids(5) to be read later by users\n",
    "pratilipi_id\n",
    "1377786216901040    2400.0\n",
    "1377786220451281    1200.0\n",
    "1377786216907065     900.0\n",
    "1377786219588613     700.0\n",
    "1377786216692750     600.0"
   ]
  },
  {
   "cell_type": "code",
   "execution_count": 13,
   "id": "cb35b580",
   "metadata": {},
   "outputs": [
    {
     "data": {
      "text/html": [
       "<div>\n",
       "<style scoped>\n",
       "    .dataframe tbody tr th:only-of-type {\n",
       "        vertical-align: middle;\n",
       "    }\n",
       "\n",
       "    .dataframe tbody tr th {\n",
       "        vertical-align: top;\n",
       "    }\n",
       "\n",
       "    .dataframe thead th {\n",
       "        text-align: right;\n",
       "    }\n",
       "</style>\n",
       "<table border=\"1\" class=\"dataframe\">\n",
       "  <thead>\n",
       "    <tr style=\"text-align: right;\">\n",
       "      <th></th>\n",
       "      <th>user_id</th>\n",
       "      <th>pratilipi_id</th>\n",
       "      <th>read_percent</th>\n",
       "    </tr>\n",
       "    <tr>\n",
       "      <th>updated_at</th>\n",
       "      <th></th>\n",
       "      <th></th>\n",
       "      <th></th>\n",
       "    </tr>\n",
       "  </thead>\n",
       "  <tbody>\n",
       "    <tr>\n",
       "      <th>2022-03-23 00:08:26.227</th>\n",
       "      <td>5506791963854965</td>\n",
       "      <td>1377786220672965</td>\n",
       "      <td>100.0</td>\n",
       "    </tr>\n",
       "    <tr>\n",
       "      <th>2022-03-23 00:08:26.220</th>\n",
       "      <td>5506791979071996</td>\n",
       "      <td>1377786219742624</td>\n",
       "      <td>29.0</td>\n",
       "    </tr>\n",
       "    <tr>\n",
       "      <th>2022-03-23 00:08:26.020</th>\n",
       "      <td>5506791980256358</td>\n",
       "      <td>1377786217096334</td>\n",
       "      <td>22.0</td>\n",
       "    </tr>\n",
       "    <tr>\n",
       "      <th>2022-03-23 00:08:25.306</th>\n",
       "      <td>5506791988747277</td>\n",
       "      <td>1377786224767880</td>\n",
       "      <td>100.0</td>\n",
       "    </tr>\n",
       "    <tr>\n",
       "      <th>2022-03-23 00:08:25.250</th>\n",
       "      <td>5506791992372558</td>\n",
       "      <td>1377786218111595</td>\n",
       "      <td>100.0</td>\n",
       "    </tr>\n",
       "  </tbody>\n",
       "</table>\n",
       "</div>"
      ],
      "text/plain": [
       "                                  user_id      pratilipi_id  read_percent\n",
       "updated_at                                                               \n",
       "2022-03-23 00:08:26.227  5506791963854965  1377786220672965         100.0\n",
       "2022-03-23 00:08:26.220  5506791979071996  1377786219742624          29.0\n",
       "2022-03-23 00:08:26.020  5506791980256358  1377786217096334          22.0\n",
       "2022-03-23 00:08:25.306  5506791988747277  1377786224767880         100.0\n",
       "2022-03-23 00:08:25.250  5506791992372558  1377786218111595         100.0"
      ]
     },
     "execution_count": 13,
     "metadata": {},
     "output_type": "execute_result"
    }
   ],
   "source": [
    "df=df.set_index([\"updated_at\"]) # Changing upadted_at as index\n",
    "df.head()"
   ]
  },
  {
   "cell_type": "code",
   "execution_count": 14,
   "id": "c4499083",
   "metadata": {},
   "outputs": [
    {
     "name": "stdout",
     "output_type": "stream",
     "text": [
      "<class 'pandas.core.frame.DataFrame'>\n",
      "DatetimeIndex: 10000000 entries, 2022-03-23 00:08:26.227000 to 2022-03-18 15:14:41.771000\n",
      "Data columns (total 3 columns):\n",
      " #   Column        Dtype  \n",
      "---  ------        -----  \n",
      " 0   user_id       int64  \n",
      " 1   pratilipi_id  int64  \n",
      " 2   read_percent  float64\n",
      "dtypes: float64(1), int64(2)\n",
      "memory usage: 305.2 MB\n"
     ]
    }
   ],
   "source": [
    "df.info()"
   ]
  },
  {
   "cell_type": "code",
   "execution_count": 15,
   "id": "3b2858b1",
   "metadata": {},
   "outputs": [],
   "source": [
    "df[\"read_percent\"]=df[\"read_percent\"].astype(\"int\")"
   ]
  },
  {
   "cell_type": "code",
   "execution_count": 16,
   "id": "ca46a216",
   "metadata": {},
   "outputs": [
    {
     "name": "stdout",
     "output_type": "stream",
     "text": [
      "<class 'pandas.core.frame.DataFrame'>\n",
      "DatetimeIndex: 10000000 entries, 2022-03-23 00:08:26.227000 to 2022-03-18 15:14:41.771000\n",
      "Data columns (total 3 columns):\n",
      " #   Column        Dtype\n",
      "---  ------        -----\n",
      " 0   user_id       int64\n",
      " 1   pratilipi_id  int64\n",
      " 2   read_percent  int32\n",
      "dtypes: int32(1), int64(2)\n",
      "memory usage: 267.0 MB\n"
     ]
    }
   ],
   "source": [
    "df.info()"
   ]
  },
  {
   "cell_type": "code",
   "execution_count": 17,
   "id": "a0a60068",
   "metadata": {},
   "outputs": [
    {
     "data": {
      "image/png": "[encoded data removed]",
      "text/plain": [
       "<Figure size 720x432 with 3 Axes>"
      ]
     },
     "metadata": {
      "needs_background": "light"
     },
     "output_type": "display_data"
    }
   ],
   "source": [
    "no_cols = len(df.columns)\n",
    "\n",
    "index = 1\n",
    "\n",
    "plt.figure(figsize=(10,6))\n",
    "for column in df.columns:\n",
    "    plt.subplot(no_cols,1,index)\n",
    "    plt.plot(df[column])\n",
    "    plt.title(column , loc=\"right\",y=0.5)\n",
    "    index+=1\n",
    "    plt.tight_layout()\n",
    "plt.show()"
   ]
  },
  {
   "cell_type": "markdown",
   "id": "dd1393a8",
   "metadata": {},
   "source": [
    "# Scaling the Data"
   ]
  },
  {
   "cell_type": "code",
   "execution_count": 18,
   "id": "6858ebf3",
   "metadata": {},
   "outputs": [
    {
     "name": "stdout",
     "output_type": "stream",
     "text": [
      "[[0.99999999 1.         0.04166667]\n",
      " [0.99999999 1.         0.01208333]\n",
      " [0.99999999 1.         0.00916667]\n",
      " ...\n",
      " [0.99999998 1.         0.04166667]\n",
      " [0.99999998 1.         0.04166667]\n",
      " [0.99999999 1.         0.04166667]]\n"
     ]
    }
   ],
   "source": [
    "from sklearn.preprocessing import MinMaxScaler\n",
    "scaler = MinMaxScaler()\n",
    "df_transformed = scaler.fit_transform(df)\n",
    "print(df_transformed)"
   ]
  },
  {
   "cell_type": "markdown",
   "id": "8aaaca90",
   "metadata": {},
   "source": [
    "# Spliting The Data"
   ]
  },
  {
   "cell_type": "code",
   "execution_count": 19,
   "id": "98df8da5",
   "metadata": {},
   "outputs": [],
   "source": [
    "from sklearn.model_selection import train_test_split\n",
    "train,test = train_test_split(df_transformed,test_size=0.25,shuffle=False)"
   ]
  },
  {
   "cell_type": "markdown",
   "id": "c8429a70",
   "metadata": {},
   "source": [
    "# Modeling"
   ]
  },
  {
   "cell_type": "code",
   "execution_count": 20,
   "id": "19c52540",
   "metadata": {},
   "outputs": [],
   "source": [
    "from keras.preprocessing.sequence import TimeseriesGenerator\n",
    "\n",
    "n_input = 3\n",
    "n_features=3\n",
    "\n",
    "generatorTrain = TimeseriesGenerator(train,train,length=n_input,batch_size=1)\n",
    "generatorTest = TimeseriesGenerator(test,test,length=n_input,batch_size=1)"
   ]
  },
  {
   "cell_type": "code",
   "execution_count": 21,
   "id": "1e750c6a",
   "metadata": {},
   "outputs": [
    {
     "name": "stdout",
     "output_type": "stream",
     "text": [
      "[[[0.99999999 1.         0.04166667]\n",
      "  [0.99999999 1.         0.01208333]\n",
      "  [0.99999999 1.         0.00916667]]] [[1.         1.         0.04166667]]\n"
     ]
    }
   ],
   "source": [
    "batch_0 = generatorTrain[0]\n",
    "x,y = batch_0\n",
    "\n",
    "\n",
    "print(x,y)"
   ]
  },
  {
   "cell_type": "code",
   "execution_count": 24,
   "id": "6713ea3c",
   "metadata": {},
   "outputs": [],
   "source": [
    "import keras\n",
    "from keras.layers import Dense\n",
    "from keras.models import Sequential\n",
    "\n",
    "from keras.optimizers import gradient_descent_v2\n",
    "from keras.callbacks import EarlyStopping\n",
    "from keras.utils import np_utils\n",
    "import itertools\n",
    "from keras.layers import LSTM\n",
    "from keras.layers.convolutional import Conv1D\n",
    "from keras.layers.convolutional import MaxPooling1D\n",
    "from keras.layers import Dropout"
   ]
  },
  {
   "cell_type": "code",
   "execution_count": null,
   "id": "ceaa601e",
   "metadata": {},
   "outputs": [
    {
     "name": "stdout",
     "output_type": "stream",
     "text": [
      "Epoch 1/5\n",
      " 449441/7499997 [>.............................] - ETA: 4:47:04 - loss: 0.0023"
     ]
    }
   ],
   "source": [
    "n_epochs=5\n",
    "\n",
    "\n",
    "model = Sequential()\n",
    "model.add(LSTM(32,activation=\"relu\", input_shape=(n_input,n_features)))\n",
    "model.add(Dropout(0.3))\n",
    "\n",
    "model.add(Dense(n_features))\n",
    "model.compile(loss='mean_squared_error', optimizer='adam')\n",
    "model.fit(generatorTrain, epochs=n_epochs, batch_size=128, shuffle=False)"
   ]
  },
  {
   "cell_type": "markdown",
   "id": "374918eb",
   "metadata": {},
   "source": [
    "# Prediction"
   ]
  },
  {
   "cell_type": "code",
   "execution_count": null,
   "id": "1757eb08",
   "metadata": {},
   "outputs": [],
   "source": [
    "predictions = []\n",
    "\n",
    "first_batch = train[-n_input:]\n",
    "current_batch = first_batch.reshape((1, n_input, n_features))\n",
    "for i in range(len(test)):\n",
    "    \n",
    "    \n",
    "    current_pred = model.predict(current_batch)[0]\n",
    "    predictions.append(current_pred)\n",
    "    current_batch_rmv_first = current_batch[:,1:,:]\n",
    "    current_batch = np.append(current_batch_rmv_first,[[current_pred]],axis=1)\n",
    "    break"
   ]
  },
  {
   "cell_type": "code",
   "execution_count": null,
   "id": "ad2c8634",
   "metadata": {},
   "outputs": [],
   "source": [
    "predictions_actual_scale = scaler.inverse_transform(predictions)\n",
    "test_data_actual_scale = scaler.inverse_transform(test)\n",
    "\n",
    "plt.plot(predictions_actual_scale[:,0])\n",
    "plt.plot(test_data_actual_scale[:,0])"
   ]
  }
 ],
 "metadata": {
  "kernelspec": {
   "display_name": "Python 3",
   "language": "python",
   "name": "python3"
  },
  "language_info": {
   "codemirror_mode": {
    "name": "ipython",
    "version": 3
   },
   "file_extension": ".py",
   "mimetype": "text/x-python",
   "name": "python",
   "nbconvert_exporter": "python",
   "pygments_lexer": "ipython3",
   "version": "3.8.8"
  }
 },
 "nbformat": 4,
 "nbformat_minor": 5
}
